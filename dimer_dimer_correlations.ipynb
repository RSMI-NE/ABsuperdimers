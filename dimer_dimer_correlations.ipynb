{
 "cells": [
  {
   "cell_type": "code",
   "execution_count": 1,
   "metadata": {},
   "outputs": [
    {
     "name": "stderr",
     "output_type": "stream",
     "text": [
      "/Users/efe/Documents/Research/RSMI-NE/rsmine/coarsegrainer/build_dataset.py:13: TqdmExperimentalWarning: Using `tqdm.autonotebook.tqdm` in notebook mode. Use `tqdm.tqdm` instead to force console mode (e.g. in jupyter console)\n",
      "  from tqdm.autonotebook import tqdm\n"
     ]
    }
   ],
   "source": [
    "import rsmine.coarsegrainer.cg_optimisers as cg_opt\n",
    "from rsmine.coarsegrainer.cg_utils import *\n",
    "from rsmine.coarsegrainer.analysis_utils import *\n",
    "sys.path.append(os.pardir)\n",
    "from rsmine.mi_estimator.MI_estimators import VBMI\n",
    "\n",
    "from examples.AB_prepare_dataset import edges, nodes, nodepos, order_8, G, prepare_data\n",
    "from analyse_codes import *\n",
    "\n",
    "examples_dir = '.'\n",
    "regions_data_dir = examples_dir + '/quasiperiodic_data/regions/'\n",
    "\n",
    "cm = 1/2.54  # convert inches to centimeters\n"
   ]
  },
  {
   "cell_type": "code",
   "execution_count": 2,
   "metadata": {},
   "outputs": [
    {
     "name": "stderr",
     "output_type": "stream",
     "text": [
      "/Users/efe/Documents/Research/RSMI-NE/examples/AB_prepare_dataset.py:37: RuntimeWarning: invalid value encountered in double_scalars\n",
      "  r = (vec[0]*ref_vec[0]+vec[1]*ref_vec[1])/(np.linalg.norm(vec)*np.linalg.norm(ref_vec))\n"
     ]
    }
   ],
   "source": [
    "case_no = 37 # to get the sigma^1 V graph\n",
    "V_index = 389\n",
    "\n",
    "EV_params, data_params, cGV_edges, cGE_edges = prepare_data(V_index)\n",
    "EV_params['case_no'] = case_no\n"
   ]
  },
  {
   "cell_type": "code",
   "execution_count": 3,
   "metadata": {},
   "outputs": [
    {
     "name": "stdout",
     "output_type": "stream",
     "text": [
      "shapes:  (50000, 616) (50000, 24, 1)\n",
      "len(Vs):  50000\n"
     ]
    }
   ],
   "source": [
    "######### Loading the (PRE-EXISTING) E,V data samples ##########\n",
    "samples = [10705]  # EV_params['sample_seeds']\n",
    "\n",
    "EV_dir = sample_data_dir = os.path.join('data', 'EandV')  #os.path.join(os.pardir, 'data', 'EandV') \n",
    "\n",
    "Es_list=[]\n",
    "Vs_list=[]\n",
    "\n",
    "for sample in samples:\n",
    "    Es_list.append(np.load(os.path.join(EV_dir,\"Es_%i_vi%i_c%i.npy\" % (sample,EV_params['V_index'],EV_params['case_no']))))\n",
    "    Vs_list.append(np.load(os.path.join(EV_dir,\"Vs_%i_vi%i_c%i.npy\" % (sample,EV_params['V_index'],EV_params['case_no']))))\n",
    "        \n",
    "Es = np.reshape(Es_list,newshape=(len(Es_list)*Es_list[0].shape[0],Es_list[0].shape[1]))\n",
    "Vs = np.reshape(Vs_list,newshape=(len(Vs_list)*Vs_list[0].shape[0],Vs_list[0].shape[1], 1)) # REMEMBER about the additional axis for Vs !!!!!\n",
    "print(\"shapes: \", Es.shape,Vs.shape)\n",
    "\n",
    "data_params['N_samples'] = len(Vs) \n",
    "print('len(Vs): ',len(Vs))"
   ]
  },
  {
   "cell_type": "code",
   "execution_count": 4,
   "metadata": {},
   "outputs": [],
   "source": [
    "nsize = 10\n",
    "l_width = 2.0\n",
    "dw_eps = 0.5\n",
    "ncolor = 'black'\n",
    "ccolor = 'dark_orange'"
   ]
  },
  {
   "cell_type": "code",
   "execution_count": 5,
   "metadata": {},
   "outputs": [
    {
     "data": {
      "image/png": "[encoded data removed]",
      "text/plain": [
       "<Figure size 425.197x98.4252 with 3 Axes>"
      ]
     },
     "metadata": {},
     "output_type": "display_data"
    }
   ],
   "source": [
    "id = 10  # 1 #10 #3\n",
    "\n",
    "num_cols = 3\n",
    "figsize = (3.6*num_cols*cm, 2.5*cm)\n",
    "fig = plt.figure(figsize=figsize)\n",
    "\n",
    "for j, id in enumerate([3, 10, 4]):\n",
    "    fil_V = []\n",
    "    for v in Vs:\n",
    "        if v[id] == 1:\n",
    "            fil_V.append(v)\n",
    "\n",
    "    fil_V = np.array(fil_V)\n",
    "\n",
    "\n",
    "    condV = np.zeros(fil_V[0].shape)\n",
    "    condV[id] = 1\n",
    "\n",
    "\n",
    "    edge_densities = np.mean(fil_V, axis=0)\n",
    "    V_edgelist = cGV_edges[EV_params['case_no']]\n",
    "\n",
    "\n",
    "    R = nx.Graph()\n",
    "    elist = [(edges[e_ind, 0], edges[e_ind, 1], {\n",
    "        'colors': edge_densities[num, :]}) for num, e_ind in enumerate(V_edgelist)]\n",
    "    R.add_edges_from(elist)\n",
    "\n",
    "    num_vtx = np.shape(nodes)[0]\n",
    "    ndict = {nodes[i]: {'pos': (nodepos[i, 0], nodepos[i, 1])}\n",
    "            for i in range(num_vtx)}\n",
    "    nx.set_node_attributes(R, ndict)\n",
    "\n",
    "    ecolors = [R[u][v]['colors'] for u, v in R.edges()]\n",
    "    pos_V = nx.get_node_attributes(R, 'pos')\n",
    "\n",
    "\n",
    "    ax = fig.add_subplot(1, num_cols, j+1)\n",
    "    ax.set_aspect('equal')\n",
    "    ax.margins(0, 0)\n",
    "    nx.draw(R, pos_V, node_color='black',\n",
    "            node_size=nsize, edge_color='black',\n",
    "            width=l_width+dw_eps, ax=ax)\n",
    "    nx.draw(R, pos_V, node_color='black',\n",
    "            node_size=nsize, edge_color=np.array(ecolors)[:, 0],\n",
    "            edge_cmap=plt.get_cmap('Greys'),\n",
    "            width=l_width, ax=ax)\n",
    "\n",
    "\n",
    "\n",
    "\n",
    "    Rc = nx.subgraph(R, [elist[id][0], elist[id][1]])\n",
    "    pos_V = nx.get_node_attributes(Rc, 'pos')\n",
    "    nx.draw(Rc, pos_V, node_color='black',\n",
    "            node_size=0, edge_color='darkorange',\n",
    "            edge_cmap=plt.get_cmap('bwr'),\n",
    "            width=l_width, ax=ax)\n",
    "\n",
    "plt.subplots_adjust(wspace=0.0, hspace=0.0)\n",
    "\n",
    "plt.savefig('micro_correlations.pdf', dpi=300, bbox_inches='tight')"
   ]
  },
  {
   "cell_type": "code",
   "execution_count": 244,
   "metadata": {},
   "outputs": [
    {
     "data": {
      "text/plain": [
       "[(3730, 389.0), (3730, 3729.0), (3730, 7001.0)]"
      ]
     },
     "execution_count": 244,
     "metadata": {},
     "output_type": "execute_result"
    }
   ],
   "source": [
    "Vid = 3730\n",
    "\n",
    "list(R.edges(Vid))\n"
   ]
  },
  {
   "cell_type": "code",
   "execution_count": 250,
   "metadata": {},
   "outputs": [
    {
     "name": "stdout",
     "output_type": "stream",
     "text": [
      "13912\n"
     ]
    }
   ],
   "source": [
    "for i, edge in enumerate(edges):\n",
    "    target = list(R.edges(Vid))[2]\n",
    "    if set(edge) == set(target):\n",
    "        print(i)\n"
   ]
  },
  {
   "cell_type": "code",
   "execution_count": 252,
   "metadata": {},
   "outputs": [
    {
     "data": {
      "image/png": "[encoded data removed]",
      "text/plain": [
       "<Figure size 640x480 with 1 Axes>"
      ]
     },
     "metadata": {},
     "output_type": "display_data"
    }
   ],
   "source": [
    "rs = nx.subgraph(R, [3730, 3729.0, 7001.0, 389.0])\n",
    "\n",
    "nx.draw(rs, nx.get_node_attributes(rs, 'pos'))\n"
   ]
  },
  {
   "cell_type": "code",
   "execution_count": null,
   "metadata": {},
   "outputs": [],
   "source": []
  }
 ],
 "metadata": {
  "kernelspec": {
   "display_name": "base",
   "language": "python",
   "name": "python3"
  },
  "language_info": {
   "codemirror_mode": {
    "name": "ipython",
    "version": 3
   },
   "file_extension": ".py",
   "mimetype": "text/x-python",
   "name": "python",
   "nbconvert_exporter": "python",
   "pygments_lexer": "ipython3",
   "version": "3.10.6"
  },
  "orig_nbformat": 4,
  "vscode": {
   "interpreter": {
    "hash": "fff7285a7b9674a821da44b8413beb73bd11a21fb8e7ea8626d281a41e1eb1b4"
   }
  }
 },
 "nbformat": 4,
 "nbformat_minor": 2
}
