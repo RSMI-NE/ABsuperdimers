{
 "cells": [
  {
   "cell_type": "code",
   "execution_count": 1,
   "metadata": {
    "collapsed": false,
    "pycharm": {
     "name": "#%%\n"
    }
   },
   "outputs": [
    {
     "name": "stderr",
     "output_type": "stream",
     "text": [
      "/Users/efe/Documents/Research/RSMI-NE/rsmine/coarsegrainer/build_dataset.py:13: TqdmExperimentalWarning: Using `tqdm.autonotebook.tqdm` in notebook mode. Use `tqdm.tqdm` instead to force console mode (e.g. in jupyter console)\n",
      "  from tqdm.autonotebook import tqdm\n"
     ]
    }
   ],
   "source": [
    "# Load various RSMI-NE functions.\n",
    "\n",
    "import rsmine.coarsegrainer.build_dataset as ds\n",
    "from rsmine.coarsegrainer.cg_utils import *\n",
    "from rsmine.coarsegrainer.analysis_utils import *\n",
    "\n",
    "import polygons"
   ]
  },
  {
   "cell_type": "code",
   "execution_count": 2,
   "metadata": {
    "collapsed": false,
    "pycharm": {
     "name": "#%%\n"
    }
   },
   "outputs": [],
   "source": [
    "############# Load the definition of the graph and construct the reference graph\n",
    "\n",
    "examples_dir = '.'\n",
    "\n",
    "edges=np.loadtxt(os.path.join(examples_dir, 'quasiperiodic_data', 'edgedata.dat'))\n",
    "nodes=np.loadtxt(os.path.join(examples_dir, 'quasiperiodic_data', 'nodedata.dat'), usecols=[0])\n",
    "nodepos=np.loadtxt(os.path.join(examples_dir, 'quasiperiodic_data', 'nodedata.dat'), usecols=[1,2])\n",
    "order_8 = np.loadtxt(os.path.join(examples_dir, 'quasiperiodic_data', 'order_of_8vtx.dat'))\n",
    "\n",
    "G = construct_reference_graph(edges,nodes)"
   ]
  },
  {
   "cell_type": "code",
   "execution_count": 3,
   "metadata": {},
   "outputs": [],
   "source": [
    "def rel_angle(vec, factor, vertex_type=None, ref_vec=None):\n",
    "    \"\"\"Returns the angle between vec and the reference vector.\n",
    "    Used for rotating scaled elementary polygons.\n",
    "\n",
    "    vertex_type is needed to determine the reference vector from the list\n",
    "    \"\"\"\n",
    "\n",
    "    if ref_vec is None and vertex_type is not None:\n",
    "        ref_vec = factor * nodepos[polygons.super_vertices[vertex_type][1][0]]\n",
    "\n",
    "    dir = 'cw'\n",
    "    rot = np.cross(vec, ref_vec)\n",
    "    vdir = 'cw' if rot > 0 else 'ccw'\n",
    "\n",
    "    r = (vec[0]*ref_vec[0]+vec[1]*ref_vec[1])/(np.linalg.norm(vec)*np.linalg.norm(ref_vec))\n",
    "\n",
    "    angle = np.arccos(r)\n",
    "\n",
    "    if vdir != dir:\n",
    "        angle = 2*np.pi - angle\n",
    "\n",
    "    if np.isnan(angle):\n",
    "        return 0\n",
    "    else:\n",
    "        return angle"
   ]
  },
  {
   "cell_type": "code",
   "execution_count": 4,
   "metadata": {},
   "outputs": [
    {
     "data": {
      "text/plain": [
       "array([[2.0000e+00, 2.0000e+00],\n",
       "       [1.9600e+02, 2.0000e+00],\n",
       "       [2.7400e+02, 2.0000e+00],\n",
       "       [3.3450e+03, 2.0000e+00],\n",
       "       [3.6160e+03, 2.0000e+00],\n",
       "       [6.6170e+03, 2.0000e+00],\n",
       "       [6.8110e+03, 2.0000e+00],\n",
       "       [9.8890e+03, 2.0000e+00],\n",
       "       [1.0160e+04, 2.0000e+00],\n",
       "       [1.3161e+04, 2.0000e+00],\n",
       "       [1.3355e+04, 2.0000e+00],\n",
       "       [1.6433e+04, 2.0000e+00],\n",
       "       [1.6704e+04, 2.0000e+00],\n",
       "       [1.9705e+04, 2.0000e+00],\n",
       "       [1.9899e+04, 2.0000e+00],\n",
       "       [2.2977e+04, 2.0000e+00]])"
      ]
     },
     "execution_count": 4,
     "metadata": {},
     "output_type": "execute_result"
    }
   ],
   "source": [
    "order_8[order_8[:, 1]==2]"
   ]
  },
  {
   "cell_type": "code",
   "execution_count": 5,
   "metadata": {
    "collapsed": false,
    "pycharm": {
     "name": "#%%\n"
    }
   },
   "outputs": [
    {
     "name": "stdout",
     "output_type": "stream",
     "text": [
      "Data loaded\n"
     ]
    }
   ],
   "source": [
    "############ Load the raw MC configurations (can take *a long while* for large files) #################\n",
    "\n",
    "#Xs = iter_loadtxt('/home/cluster/sobisw/data/large_size/econfig_startseed%i_nsmaples50000.dat'%(EV_params['sample_no']),dtype=np.int8)\n",
    "\n",
    "sample_no = 10705  # 10705 # 12121\n",
    "\n",
    "sample_data_dir = os.path.join('data', 'configs') #os.path.join(os.pardir, 'data', 'configs')\n",
    "\n",
    "Xs = iter_loadtxt(os.path.join(sample_data_dir,'econfig_startseed%i_nsmaples50000.dat'%(sample_no)), dtype=np.int8)\n",
    "\n",
    "data_params = {}\n",
    "data_params['N_samples'] = len(Xs)  # Set the correct number of samples loaded.\n",
    "print(\"Data loaded\")\n"
   ]
  },
  {
   "cell_type": "code",
   "execution_count": null,
   "metadata": {},
   "outputs": [],
   "source": []
  },
  {
   "cell_type": "code",
   "execution_count": null,
   "metadata": {},
   "outputs": [],
   "source": []
  },
  {
   "cell_type": "code",
   "execution_count": 664,
   "metadata": {
    "collapsed": false,
    "pycharm": {
     "name": "#%%\n"
    }
   },
   "outputs": [
    {
     "name": "stdout",
     "output_type": "stream",
     "text": [
      "4\n"
     ]
    }
   ],
   "source": [
    "# Set the various parameters of the system required by the code\n",
    "\n",
    "# EV_params and data_params are generic data about samples of E,V\n",
    "\n",
    "case_no= 51 # env, buffer, ll only come into play if case is set to \"0\"\n",
    "V_index = 389  # 13554  # 389 is the central 8-vertex order 4 # 196 and 274 are 8-vertices of order 2 # 211 is 8-vertex of order 0\n",
    "#V_order = order_8[V_index][1]\n",
    "V_order = order_8[order_8[:, 0] == V_index][0, 1].astype(int)\n",
    "\n",
    "print(V_order)\n",
    "\n",
    "env_size = 8 # Not currently used by us\n",
    "buffer_size = 2 # Not currently used by us\n",
    "ll= 3 # Not currently used by us\n",
    "disc=1\n",
    "\n",
    "\n",
    "#We store these in a dictionary for experiment logging purposes only\n",
    "EV_params = {\n",
    "    'env_size' : env_size,\n",
    "    'buffer_size': buffer_size,\n",
    "    'block_size': ll, #assuming square block shape\n",
    "    'sample_no': sample_no,\n",
    "    'V_index': V_index,\n",
    "    'V_order': V_order,\n",
    "    'case_no':case_no\n",
    "}\n",
    "\n",
    "# These are needed by the generator\n",
    "data_params = {\n",
    "    'model': 'dimer_graph',\n",
    "    'lattice_type': 'networkx',\n",
    "    'L': 2048, # unused currently\n",
    "    'N_samples': 1, # 1 is default. Set to actual value after generating or loading data.\n",
    "    'dimension': 2,\n",
    "}"
   ]
  },
  {
   "cell_type": "code",
   "execution_count": 665,
   "metadata": {
    "collapsed": false,
    "pycharm": {
     "name": "#%%\n"
    }
   },
   "outputs": [
    {
     "name": "stdout",
     "output_type": "stream",
     "text": [
      "{'model': 'dimer_graph', 'lattice_type': 'networkx', 'L': 2048, 'N_samples': 1, 'dimension': 2}\n",
      "{'env_size': 8, 'buffer_size': 2, 'block_size': 3, 'sample_no': 10705, 'V_index': 389, 'V_order': 4, 'case_no': 51}\n"
     ]
    }
   ],
   "source": [
    "# Instantiate the dataset object, using the loaded samples and the definition of the graph\n",
    "# This will be used to generate the E,V splits.\n",
    "\n",
    "generator=ds.dataset(**data_params, configurations = Xs, G=G, verbose=True)\n",
    "#generator=dataset(**data_params, configurations = Xs, G=G, verbose=True)\n",
    "print(data_params)\n",
    "print(EV_params)"
   ]
  },
  {
   "cell_type": "code",
   "execution_count": 666,
   "metadata": {
    "collapsed": false,
    "pycharm": {
     "name": "#%%\n"
    }
   },
   "outputs": [
    {
     "data": {
      "text/plain": [
       "(50000, 51800)"
      ]
     },
     "execution_count": 666,
     "metadata": {},
     "output_type": "execute_result"
    }
   ],
   "source": [
    "# Print the shape of Xs (num_samples,num_variables_in_graph):\n",
    "Xs.shape"
   ]
  },
  {
   "cell_type": "code",
   "execution_count": 667,
   "metadata": {
    "collapsed": false,
    "pycharm": {
     "name": "#%%\n"
    }
   },
   "outputs": [
    {
     "data": {
      "text/plain": [
       "(10705, 389, 4)"
      ]
     },
     "execution_count": 667,
     "metadata": {},
     "output_type": "execute_result"
    }
   ],
   "source": [
    "# Double check what sample parameters are currently selected:\n",
    "EV_params['sample_no'],EV_params['V_index'],EV_params['V_order']"
   ]
  },
  {
   "cell_type": "code",
   "execution_count": 668,
   "metadata": {
    "collapsed": false,
    "pycharm": {
     "name": "#%%\n"
    }
   },
   "outputs": [],
   "source": [
    "# Load definitions of membranes, regions\n",
    "\n",
    "regions_data_dir = examples_dir + '/quasiperiodic_data/regions/'\n",
    "\n",
    "if V_order != -1:\n",
    "    mem_edges0_ids = eids_from_edges(edges, np.loadtxt(\n",
    "        regions_data_dir + 'reg_mem_edgelist_svtx%i_sord%i_mem0.dat' % (EV_params['V_index'], EV_params['V_order']), dtype=int))\n",
    "elif V_order == -1:\n",
    "    mem_edges0_ids = []\n",
    "    mem_edges1_ids = []\n",
    "    mem_edges2_ids = []\n",
    "    mem_edges3_ids = []\n",
    "    mem_edges4_ids = []\n",
    "\n",
    "elif V_order == -1:\n",
    "    mem_edges0_ids = []\n",
    "    mem_edges1_ids = []\n",
    "    mem_edges2_ids = []\n",
    "    mem_edges3_ids = []\n",
    "    mem_edges4_ids = []\n",
    "    \n",
    "if V_order == 0:\n",
    "    mem_edges1_ids = []\n",
    "    mem_edges2_ids = []\n",
    "    mem_edges3_ids = []\n",
    "    mem_edges4_ids = []\n",
    "elif V_order == 1:\n",
    "    mem_edges1_ids = eids_from_edges(edges, np.loadtxt(\n",
    "        regions_data_dir + 'reg_mem_edgelist_svtx%i_sord%i_mem1.dat' % (EV_params['V_index'], EV_params['V_order']), dtype=int))\n",
    "    mem_edges2_ids = []\n",
    "    mem_edges3_ids = []\n",
    "    mem_edges4_ids = []\n",
    "elif V_order == 2:\n",
    "    mem_edges1_ids = eids_from_edges(edges, np.loadtxt(\n",
    "        regions_data_dir + 'reg_mem_edgelist_svtx%i_sord%i_mem1.dat' % (EV_params['V_index'], EV_params['V_order']), dtype=int))\n",
    "    mem_edges2_ids = eids_from_edges(edges, np.loadtxt(\n",
    "        regions_data_dir + 'reg_mem_edgelist_svtx%i_sord%i_mem2.dat' % (EV_params['V_index'], EV_params['V_order']), dtype=int))\n",
    "    mem_edges3_ids = []\n",
    "    mem_edges4_ids = []\n",
    "elif V_order > 2:\n",
    "    mem_edges1_ids = eids_from_edges(edges, np.loadtxt(\n",
    "        regions_data_dir + 'reg_mem_edgelist_svtx%i_sord%i_mem1.dat' % (EV_params['V_index'], EV_params['V_order']), dtype=int))\n",
    "    mem_edges2_ids = eids_from_edges(edges, np.loadtxt(\n",
    "        regions_data_dir + 'reg_mem_edgelist_svtx%i_sord%i_mem2.dat' % (EV_params['V_index'], EV_params['V_order']), dtype=int))\n",
    "    mem_edges3_ids = eids_from_edges(edges, np.loadtxt(\n",
    "        regions_data_dir + 'reg_mem_edgelist_svtx%i_sord%i_mem3.dat' % (EV_params['V_index'], EV_params['V_order']), dtype=int))\n",
    "    mem_edges4_ids = eids_from_edges(edges, np.loadtxt(\n",
    "        regions_data_dir + 'reg_mem_edgelist_svtx%i_sord%i_mem4.dat' % (EV_params['V_index'], EV_params['V_order']), dtype=int))\n",
    "\n",
    "if V_order != -1:\n",
    "    reg_edges0_ids = eids_from_edges(edges, np.loadtxt(\n",
    "        regions_data_dir + 'reg_edgelist_svtx%i_sord%i_mem0.dat' % (EV_params['V_index'], EV_params['V_order']), dtype=int))\n",
    "elif V_order == -1:\n",
    "    reg_edges0_ids = []\n",
    "    reg_edges1_ids = []\n",
    "    reg_edges2_ids = []\n",
    "    reg_edges3_ids = []\n",
    "    reg_edges4_ids = []\n",
    "\n",
    "if V_order == 0:\n",
    "    reg_edges1_ids = []\n",
    "    reg_edges2_ids = []\n",
    "    reg_edges3_ids = []\n",
    "    reg_edges4_ids = []\n",
    "elif V_order == 1:\n",
    "    reg_edges1_ids = eids_from_edges(edges, np.loadtxt(\n",
    "        regions_data_dir + 'reg_edgelist_svtx%i_sord%i_mem1.dat' % (EV_params['V_index'], EV_params['V_order']), dtype=int))\n",
    "    reg_edges2_ids = []\n",
    "    reg_edges3_ids = []\n",
    "    reg_edges4_ids = []\n",
    "elif V_order == 2:\n",
    "    reg_edges1_ids = eids_from_edges(edges, np.loadtxt(\n",
    "        regions_data_dir + 'reg_edgelist_svtx%i_sord%i_mem1.dat' % (EV_params['V_index'], EV_params['V_order']), dtype=int))\n",
    "    reg_edges2_ids = eids_from_edges(edges, np.loadtxt(\n",
    "        regions_data_dir + '/reg_edgelist_svtx%i_sord%i_mem2.dat' % (EV_params['V_index'], EV_params['V_order']), dtype=int))\n",
    "    reg_edges3_ids = []\n",
    "    reg_edges4_ids = []\n",
    "elif V_order > 2:\n",
    "    reg_edges1_ids = eids_from_edges(edges, np.loadtxt(\n",
    "        regions_data_dir + 'reg_edgelist_svtx%i_sord%i_mem1.dat' % (EV_params['V_index'], EV_params['V_order']), dtype=int))\n",
    "    reg_edges2_ids = eids_from_edges(edges, np.loadtxt(\n",
    "        regions_data_dir + '/reg_edgelist_svtx%i_sord%i_mem2.dat' % (EV_params['V_index'], EV_params['V_order']), dtype=int))\n",
    "    reg_edges3_ids = eids_from_edges(edges, np.loadtxt(\n",
    "        regions_data_dir + '/reg_edgelist_svtx%i_sord%i_mem3.dat' % (EV_params['V_index'], EV_params['V_order']), dtype=int))\n",
    "    reg_edges4_ids = eids_from_edges(edges, np.loadtxt(\n",
    "        regions_data_dir + '/reg_edgelist_svtx%i_sord%i_mem4.dat' % (EV_params['V_index'], EV_params['V_order']), dtype=int))\n",
    "\n",
    "ball4, _ = construct_VE_edgelists(G, EV_params['V_index'], L_B=1, ll=4, cap=8)\n",
    "ball5, _ = construct_VE_edgelists(G, EV_params['V_index'], L_B=1, ll=5, cap=8)\n",
    "ball8, _ = construct_VE_edgelists(G, EV_params['V_index'], L_B=1, ll=8, cap=11)\n",
    "ball10, _ = construct_VE_edgelists(G, EV_params['V_index'], L_B=1, ll=10, cap=15)\n",
    "ball12, _ = construct_VE_edgelists(G, EV_params['V_index'], L_B=1, ll=12, cap=15)\n",
    "ball16, _ = construct_VE_edgelists(G, EV_params['V_index'], L_B=1, ll=16, cap=19)\n",
    "ball20, _ = construct_VE_edgelists(G, EV_params['V_index'], L_B=1, ll=20, cap=26)\n",
    "ball24, _ = construct_VE_edgelists(G, EV_params['V_index'], L_B=1, ll=24, cap=26)\n",
    "ball32, _ = construct_VE_edgelists(G, EV_params['V_index'], L_B=1, ll=32, cap=35)\n",
    "ball40, _ = construct_VE_edgelists(G, EV_params['V_index'], L_B=1, ll=40, cap=50)\n",
    "ball48, _ = construct_VE_edgelists(G, EV_params['V_index'], L_B=1, ll=48, cap=50)\n",
    "ball54, _ = construct_VE_edgelists(G, EV_params['V_index'], L_B=1, ll=54, cap=60)\n",
    "ball64, _ = construct_VE_edgelists(G, EV_params['V_index'], L_B=1, ll=64, cap=70)\n",
    "ball68, _ = construct_VE_edgelists(G, EV_params['V_index'], L_B=1, ll=68, cap=70)\n",
    "ball72, _ = construct_VE_edgelists(G, EV_params['V_index'], L_B=1, ll=72, cap=84)\n",
    "ball84, _ = construct_VE_edgelists(G, EV_params['V_index'], L_B=1, ll=84, cap=90)\n",
    "\n",
    "\n",
    "# Construct lists of edges defining the selected E,V if ***NOT*** using the cases, but rather topological balls.\n",
    "# If using the cases, it's much safer to use the \"multiple case\" path, even if the case list of length 1.\n",
    "\n",
    "GV_edges, GE_edges = construct_VE_edgelists(G, V_index, L_B=buffer_size, ll=ll, cap=ll+buffer_size+env_size)"
   ]
  },
  {
   "cell_type": "code",
   "execution_count": 669,
   "metadata": {
    "collapsed": false,
    "pycharm": {
     "name": "#%%\n"
    }
   },
   "outputs": [
    {
     "data": {
      "text/plain": [
       "\"\\n# Case 52\\n# Use for 3-vertices at sigma^4=level-2 (index:196, 274, ...) (perfect tile)\\nvertex_type = '3fold'\\nsigma_scale = 4\\nfactor = polygons.silver_ratio ** (sigma_scale-1)\\nangle = rel_angle(nodepos[EV_params['V_index']],\\n                  factor, vertex_type=vertex_type)\\n\\nauxGV_edges = polygons.rotate_and_scale_Vgraph(\\n    angle, sigma_scale, vertex_type)[0]\\n# TODO: determine the proper buffer size here\\n#auxGE_edges = construct_VE_edgelists(G, V_index, L_B=8, ll=16, cap=48)[1]\\nauxGE_edges = sorted(set(ball64) - set(ball40))\\ncGV_edges[52] = auxGV_edges\\ncGE_edges[52] = auxGE_edges\\n\\n\\n\\n\\n# Case 53\\n# Use for 8-vertices at sigma^3=level-1 (index:389) (perfect tile)\\nvertex_type = '8fold'\\nsigma_scale = 3\\nfactor = polygons.silver_ratio ** (sigma_scale-1)\\n\\nauxGV_edges = polygons.scale_Vgraph(sigma_scale, vertex_type)[0]\\nauxGE_edges = sorted(set(ball48) - set(ball24))\\ncGV_edges[53] = auxGV_edges\\ncGE_edges[53] = auxGE_edges\\n\\n\\n\\n# Case 54\\n# Use for 3-vertices at sigma^4=level-2 (index:196, 274, ...) (perfect tile)\\nvertex_type = '3fold'\\nsigma_scale = 3\\nfactor = polygons.silver_ratio ** (sigma_scale-1)\\nangle = rel_angle(nodepos[EV_params['V_index']],\\n                  factor, vertex_type=vertex_type)\\n\\nauxGV_edges = polygons.rotate_and_scale_Vgraph(\\n    angle, sigma_scale, vertex_type)[0]\\n# TODO: determine the proper buffer size here\\n#auxGE_edges = construct_VE_edgelists(G, V_index, L_B=8, ll=16, cap=48)[1]\\nauxGE_edges = sorted(set(ball48) - set(ball20))\\ncGV_edges[54] = auxGV_edges\\ncGE_edges[54] = auxGE_edges\\n\""
      ]
     },
     "execution_count": 669,
     "metadata": {},
     "output_type": "execute_result"
    }
   ],
   "source": [
    "# Define the E,V areas via \"cases\" instead (more appropriate for non-spherical regions, like empires etc.)\n",
    "\n",
    "#### Be super careful!!! IF the variables  reg_.... is initialized from some previous vertex,\n",
    "#### there won't be an error, ven of lower order vertex doesn't have this membrane. \n",
    "\n",
    "\n",
    "cGV_edges = {}\n",
    "cGE_edges = {}\n",
    "\n",
    "\"\"\"     # Case #1\n",
    "#auxGV_edges = sorted(set(reg_edges0_ids))\n",
    "#auxGE_edges = sorted(set(reg_edges1_ids) -set(reg_edges0_ids) - set(mem_edges0_ids))#  #sorted(set(reg_edges2_ids)-(set(reg_edges0_ids) | set(mem_edges0_ids)))\n",
    "#cGV_edges[1] = auxGV_edges\n",
    "#cGE_edges[1] = auxGE_edges\n",
    "\n",
    "    # Case #2\n",
    "#auxGV_edges = sorted(set(reg_edges0_ids))\n",
    "#auxGE_edges = sorted(set(reg_edges1_ids) | set(mem_edges1_ids) -set(reg_edges0_ids) - set(mem_edges0_ids))#  #sorted(set(reg_edges2_ids)-(set(reg_edges0_ids) | set(mem_edges0_ids)))\n",
    "#cGV_edges[2] = auxGV_edges\n",
    "#cGE_edges[2] = auxGE_edges\n",
    "\n",
    "#     # Case #3\n",
    "# auxGV_edges = sorted(set(reg_edges0_ids))\n",
    "# auxGE_edges = sorted(set(reg_edges2_ids) -set(reg_edges0_ids) - set(mem_edges0_ids))#  #sorted(set(reg_edges2_ids)-(set(reg_edges0_ids) | set(mem_edges0_ids)))\n",
    "# cGV_edges[3] = auxGV_edges\n",
    "# cGE_edges[3] = auxGE_edges\n",
    "\n",
    "#     # Case #4\n",
    "# auxGV_edges = sorted(set(reg_edges0_ids))\n",
    "# auxGE_edges = sorted(set(reg_edges2_ids) -set(reg_edges1_ids))#  #sorted(set(reg_edges2_ids)-(set(reg_edges0_ids) | set(mem_edges0_ids)))\n",
    "# cGV_edges[4] = auxGV_edges\n",
    "# cGE_edges[4] = auxGE_edges\n",
    "\n",
    "#     # Case #5\n",
    "# auxGV_edges = sorted(set(reg_edges0_ids) | set(mem_edges0_ids))\n",
    "# auxGE_edges = sorted(set(reg_edges2_ids) -set(reg_edges1_ids))#  #sorted(set(reg_edges2_ids)-(set(reg_edges0_ids) | set(mem_edges0_ids)))\n",
    "# cGV_edges[5] = auxGV_edges\n",
    "# cGE_edges[5] = auxGE_edges\n",
    "\n",
    "#     # Case #6\n",
    "# auxGV_edges = sorted(set(reg_edges0_ids) | set(mem_edges0_ids))\n",
    "# auxGE_edges = sorted(set(reg_edges2_ids) -set(reg_edges1_ids) - set(mem_edges1_ids))#  #sorted(set(reg_edges2_ids)-(set(reg_edges0_ids) | set(mem_edges0_ids)))\n",
    "# cGV_edges[6] = auxGV_edges\n",
    "# cGE_edges[6] = auxGE_edges\n",
    "\n",
    "    # Case #7\n",
    "#auxGV_edges = sorted(set(reg_edges0_ids) | set(mem_edges0_ids))\n",
    "#auxGE_edges = sorted(set(ball32) -set(reg_edges2_ids))#  #sorted(set(reg_edges2_ids)-(set(reg_edges0_ids) | set(mem_edges0_ids)))\n",
    "#cGV_edges[7] = auxGV_edges\n",
    "#cGE_edges[7] = auxGE_edges\n",
    "\n",
    "    # Case #8\n",
    "auxGV_edges = sorted(set(reg_edges0_ids) | set(mem_edges0_ids))\n",
    "auxGE_edges = sorted(set(ball32) -set(reg_edges2_ids) - set(mem_edges2_ids))#  #sorted(set(reg_edges2_ids)-(set(reg_edges0_ids) | set(mem_edges0_ids)))\n",
    "cGV_edges[8] = auxGV_edges\n",
    "cGE_edges[8] = auxGE_edges\n",
    "\n",
    "    # Case #9\n",
    "#auxGV_edges = sorted(set(reg_edges1_ids))\n",
    "#auxGE_edges = sorted(set(reg_edges2_ids) -set(reg_edges1_ids) - set(mem_edges1_ids))#  #sorted(set(reg_edges2_ids)-(set(reg_edges0_ids) | set(mem_edges0_ids)))\n",
    "#cGV_edges[9] = auxGV_edges\n",
    "#cGE_edges[9] = auxGE_edges\n",
    "\n",
    "    # Case #10\n",
    "#auxGV_edges = sorted(set(reg_edges1_ids))\n",
    "#auxGE_edges = sorted(set(reg_edges2_ids) | set(mem_edges2_ids) -set(reg_edges1_ids) - set(mem_edges1_ids))#  #sorted(set(reg_edges2_ids)-(set(reg_edges0_ids) | set(mem_edges0_ids)))\n",
    "#cGV_edges[10] = auxGV_edges\n",
    "#cGE_edges[10] = auxGE_edges\n",
    "\n",
    "#     # Case #11\n",
    "# auxGV_edges = sorted(set(reg_edges1_ids))\n",
    "# auxGE_edges = sorted(set(ball32) -set(reg_edges1_ids) - set(mem_edges1_ids))#  #sorted(set(reg_edges2_ids)-(set(reg_edges0_ids) | set(mem_edges0_ids)))\n",
    "# cGV_edges[11] = auxGV_edges\n",
    "# cGE_edges[11] = auxGE_edges\n",
    "\n",
    "#     # Case #12\n",
    "# auxGV_edges = sorted(set(reg_edges1_ids))\n",
    "# auxGE_edges = sorted(set(ball32) -set(reg_edges2_ids) - set(mem_edges2_ids))#  #sorted(set(reg_edges2_ids)-(set(reg_edges0_ids) | set(mem_edges0_ids)))\n",
    "# cGV_edges[12] = auxGV_edges\n",
    "# cGE_edges[12] = auxGE_edges\n",
    "\n",
    "    # Case #13\n",
    "#auxGV_edges = sorted(set(reg_edges1_ids))\n",
    "#auxGE_edges = sorted(set(ball32) -set(reg_edges2_ids))#  #sorted(set(reg_edges2_ids)-(set(reg_edges0_ids) | set(mem_edges0_ids)))\n",
    "#cGV_edges[13] = auxGV_edges\n",
    "#cGE_edges[13] = auxGE_edges\n",
    "\n",
    "    # Case #14\n",
    "#auxGV_edges = sorted(set(reg_edges1_ids) | set(mem_edges1_ids))\n",
    "#auxGE_edges = sorted(set(ball32) -set(reg_edges2_ids))#  #sorted(set(reg_edges2_ids)-(set(reg_edges0_ids) | set(mem_edges0_ids)))\n",
    "#cGV_edges[14] = auxGV_edges\n",
    "#cGE_edges[14] = auxGE_edges\n",
    "\n",
    "    # Case #15\n",
    "#auxGV_edges = sorted(set(reg_edges1_ids) | set(mem_edges1_ids))\n",
    "#auxGE_edges = sorted(set(ball32) -set(reg_edges2_ids) -set(mem_edges2_ids))#  #sorted(set(reg_edges2_ids)-(set(reg_edges0_ids) | set(mem_edges0_ids)))\n",
    "#cGV_edges[15] = auxGV_edges\n",
    "#cGE_edges[15] = auxGE_edges\n",
    "\n",
    "#     # Case #16\n",
    "# auxGV_edges = sorted(set(reg_edges2_ids))\n",
    "# auxGE_edges = sorted(set(ball32) -set(reg_edges2_ids) -set(mem_edges2_ids))#  #sorted(set(reg_edges2_ids)-(set(reg_edges0_ids) | set(mem_edges0_ids)))\n",
    "# cGV_edges[16] = auxGV_edges\n",
    "# cGE_edges[16] = auxGE_edges\n",
    "\n",
    "    # Case #17\n",
    "#auxGV_edges = sorted(set(reg_edges2_ids))\n",
    "#auxGE_edges = sorted(set(ball48) -set(reg_edges2_ids) -set(mem_edges2_ids))#  #sorted(set(reg_edges2_ids)-(set(reg_edges0_ids) | set(mem_edges0_ids)))\n",
    "#cGV_edges[17] = auxGV_edges\n",
    "#cGE_edges[17] = auxGE_edges\n",
    "\n",
    "#     # Case #18 was is ball 20 or ball 24????\n",
    "# auxGV_edges = sorted(set(reg_edges2_ids))\n",
    "# auxGE_edges = sorted(set(ball48) -set(ball24))#  #sorted(set(reg_edges2_ids)-(set(reg_edges0_ids) | set(mem_edges0_ids)))\n",
    "# cGV_edges[18] = auxGV_edges\n",
    "# cGE_edges[18] = auxGE_edges\n",
    "\n",
    "#     # Case #19\n",
    "# auxGV_edges = sorted(set(reg_edges0_ids))\n",
    "# auxGE_edges = sorted(set(ball16) -set(reg_edges1_ids))#  #sorted(set(reg_edges2_ids)-(set(reg_edges0_ids) | set(mem_edges0_ids)))\n",
    "# cGV_edges[19] = auxGV_edges\n",
    "# cGE_edges[19] = auxGE_edges\n",
    "\n",
    "    # Case #20\n",
    "#auxGV_edges = sorted(set(reg_edges0_ids))\n",
    "#auxGE_edges = sorted(set(ball16) -set(reg_edges1_ids) -set(mem_edges1_ids))#  #sorted(set(reg_edges2_ids)-(set(reg_edges0_ids) | set(mem_edges0_ids)))\n",
    "#cGV_edges[20] = auxGV_edges\n",
    "#cGE_edges[20] = auxGE_edges\n",
    "\n",
    "    # Case #21\n",
    "#auxGV_edges = sorted(set(reg_edges0_ids) | set(mem_edges0_ids))\n",
    "#auxGE_edges = sorted(set(ball16) -set(reg_edges1_ids))#  #sorted(set(reg_edges2_ids)-(set(reg_edges0_ids) | set(mem_edges0_ids)))\n",
    "#cGV_edges[21] = auxGV_edges\n",
    "#cGE_edges[21] = auxGE_edges\n",
    "\n",
    "    # Case #22\n",
    "#auxGV_edges = sorted(set(reg_edges0_ids) | set(mem_edges0_ids))\n",
    "#auxGE_edges = sorted(set(ball16) -set(reg_edges1_ids) -set(mem_edges1_ids))#  #sorted(set(reg_edges2_ids)-(set(reg_edges0_ids) | set(mem_edges0_ids)))\n",
    "#cGV_edges[22] = auxGV_edges\n",
    "#cGE_edges[22] = auxGE_edges\n",
    "\n",
    "    # Case #23\n",
    "#auxGV_edges = sorted(set(reg_edges1_ids))\n",
    "#auxGE_edges = sorted(set(ball16) -set(reg_edges1_ids) -set(mem_edges1_ids))#  #sorted(set(reg_edges2_ids)-(set(reg_edges0_ids) | set(mem_edges0_ids)))\n",
    "#cGV_edges[23] = auxGV_edges\n",
    "#cGE_edges[23] = auxGE_edges\n",
    "\n",
    "    # Case #24\n",
    "#auxGV_edges = sorted(set(reg_edges1_ids))\n",
    "#auxGE_edges = sorted(set(ball24) -set(ball16))#  #sorted(set(reg_edges2_ids)-(set(reg_edges0_ids) | set(mem_edges0_ids)))\n",
    "#cGV_edges[24] = auxGV_edges\n",
    "#cGE_edges[24] = auxGE_edges\n",
    "\n",
    "    # Case #25\n",
    "#auxGV_edges = sorted(set(reg_edges1_ids) | set(mem_edges1_ids))\n",
    "#auxGE_edges = sorted(set(ball24) -set(ball16))#  #sorted(set(reg_edges2_ids)-(set(reg_edges0_ids) | set(mem_edges0_ids)))\n",
    "#cGV_edges[25] = auxGV_edges\n",
    "#cGE_edges[25] = auxGE_edges\n",
    "\n",
    "    # Case #26\n",
    "#auxGV_edges = sorted(set(reg_edges1_ids) | set(mem_edges1_ids))\n",
    "#auxGE_edges = sorted(set(ball16) -set(ball12))#  #sorted(set(reg_edges2_ids)-(set(reg_edges0_ids) | set(mem_edges0_ids)))\n",
    "#cGV_edges[26] = auxGV_edges\n",
    "#cGE_edges[26] = auxGE_edges\n",
    "\n",
    "    # Case #27\n",
    "#auxGV_edges = sorted(set(reg_edges2_ids))\n",
    "#auxGE_edges = sorted(set(ball32) -set(ball24))#  #sorted(set(reg_edges2_ids)-(set(reg_edges0_ids) | set(mem_edges0_ids)))\n",
    "#cGV_edges[27] = auxGV_edges\n",
    "#cGE_edges[27] = auxGE_edges\n",
    "\n",
    "\n",
    "    # Case #28\n",
    "#auxGV_edges = sorted(set(reg_edges0_ids))\n",
    "#auxGE_edges = sorted(set(ball8) - set(reg_edges0_ids) - set(mem_edges0_ids))#  #sorted(set(reg_edges2_ids)-(set(reg_edges0_ids) | set(mem_edges0_ids)))\n",
    "#cGV_edges[28] = auxGV_edges\n",
    "#cGE_edges[28] = auxGE_edges\n",
    "\n",
    "\n",
    "    # Case #29\n",
    "#auxGV_edges = sorted(set(reg_edges0_ids))\n",
    "#auxGE_edges = sorted(set(ball12) - set(reg_edges0_ids) - set(mem_edges0_ids))#  #sorted(set(reg_edges2_ids)-(set(reg_edges0_ids) | set(mem_edges0_ids)))\n",
    "#cGV_edges[29] = auxGV_edges\n",
    "#cGE_edges[29] = auxGE_edges\n",
    "\n",
    "\n",
    "     #Case #30\n",
    "#auxGV_edges = sorted(set(reg_edges0_ids))\n",
    "#auxGE_edges = sorted(set(ball12) - set(ball5))#  #sorted(set(reg_edges2_ids)-(set(reg_edges0_ids) | set(mem_edges0_ids)))\n",
    "#cGV_edges[30] = auxGV_edges\n",
    "#cGE_edges[30] = auxGE_edges\n",
    "\n",
    "    # Case #31\n",
    "#auxGV_edges = sorted(set(reg_edges0_ids))\n",
    "#auxGE_edges = sorted(set(ball16) - set(ball5))#  #sorted(set(reg_edges2_ids)-(set(reg_edges0_ids) | set(mem_edges0_ids)))\n",
    "#cGV_edges[31] = auxGV_edges\n",
    "#cGE_edges[31] = auxGE_edges\n",
    "\n",
    "    # Case #32\n",
    "#auxGV_edges = sorted(set(reg_edges0_ids) | set(mem_edges0_ids))\n",
    "#auxGE_edges = sorted(set(ball16) - set(ball5))#  #sorted(set(reg_edges2_ids)-(set(reg_edges0_ids) | set(mem_edges0_ids)))\n",
    "#cGV_edges[32] = auxGV_edges\n",
    "#cGE_edges[32] = auxGE_edges\n",
    "\n",
    "# # Case #33\n",
    "# auxGV_edges = sorted(set(reg_edges2_ids))\n",
    "# auxGE_edges = sorted(\n",
    "#     set(ball48) - set(reg_edges3_ids) - set(mem_edges3_ids))\n",
    "# cGV_edges[33] = auxGV_edges\n",
    "# cGE_edges[33] = auxGE_edges\n",
    "\n",
    "## Case #34\n",
    "#auxGV_edges = sorted(set(reg_edges2_ids))\n",
    "#auxGE_edges = sorted(\n",
    "#    set(reg_edges4_ids) - set(reg_edges3_ids) - set(mem_edges3_ids))\n",
    "#cGV_edges[34] = auxGV_edges\n",
    "#cGE_edges[34] = auxGE_edges\n",
    "\n",
    "# # Case #35\n",
    "# auxGV_edges = sorted(set(reg_edges1_ids))\n",
    "# auxGE_edges = sorted(\n",
    "#     set(reg_edges3_ids) - set(reg_edges2_ids) - set(mem_edges2_ids))\n",
    "# cGV_edges[35] = auxGV_edges\n",
    "# cGE_edges[35] = auxGE_edges\n",
    "\n",
    "# Case #36\n",
    "auxGV_edges = sorted(set(reg_edges0_ids))\n",
    "# sorted(set(reg_edges2_ids)-(set(reg_edges0_ids) | set(mem_edges0_ids)))\n",
    "auxGE_edges = sorted(set(ball12) -\n",
    "                        set(reg_edges0_ids) - set(mem_edges0_ids))\n",
    "cGV_edges[36] = auxGV_edges\n",
    "cGE_edges[36] = auxGE_edges\n",
    "\n",
    "# Case #37\n",
    "auxGV_edges = sorted(set(reg_edges0_ids))\n",
    "# sorted(set(reg_edges2_ids)-(set(reg_edges0_ids) | set(mem_edges0_ids)))\n",
    "auxGE_edges = sorted(set(ball12) - set(ball4))\n",
    "cGV_edges[37] = auxGV_edges\n",
    "cGE_edges[37] = auxGE_edges\n",
    "\n",
    "# Case #38\n",
    "# buffer width 2-3 case for level 1\n",
    "auxGV_edges = sorted(set(reg_edges1_ids))\n",
    "auxGE_edges = sorted(\n",
    "    set(ball32) - set(ball8))\n",
    "cGV_edges[38] = auxGV_edges\n",
    "cGE_edges[38] = auxGE_edges\n",
    "\n",
    "# Case #39\n",
    "# buffer width 3-4 case for level 1\n",
    "auxGV_edges = sorted(set(reg_edges1_ids))\n",
    "auxGE_edges = sorted(\n",
    "    set(ball32) - set(ball12))\n",
    "cGV_edges[39] = auxGV_edges\n",
    "cGE_edges[39] = auxGE_edges\n",
    "\n",
    "# Case #40\n",
    "# buffer width 3-4 case for level 1\n",
    "auxGV_edges = sorted(set(reg_edges1_ids))\n",
    "auxGE_edges = sorted(\n",
    "    set(ball24) - set(ball12))\n",
    "cGV_edges[40] = auxGV_edges\n",
    "cGE_edges[40] = auxGE_edges\n",
    "\n",
    "   # Case #41\n",
    "# buffer width 2\n",
    "# used for 3-vertices at sigma^2=level-0 (indices: 399, 404)\n",
    "auxGV_edges = sorted(set(reg_edges0_ids) | set(mem_edges0_ids))\n",
    "# sorted(set(reg_edges2_ids)-(set(reg_edges0_ids) | set(mem_edges0_ids)))\n",
    "auxGE_edges = sorted(set(ball12) - set(ball5))\n",
    "cGV_edges[41] = auxGV_edges\n",
    "cGE_edges[41] = auxGE_edges\n",
    "\n",
    "# Case #42\n",
    "# buffer width 3-4\n",
    "# used for 3-vertices at sigma^3=level-1 (indices: 429, 447)\n",
    "auxGV_edges = sorted(set(reg_edges1_ids) | set(mem_edges1_ids))\n",
    "# sorted(set(reg_edges2_ids)-(set(reg_edges0_ids) | set(mem_edges0_ids)))\n",
    "auxGE_edges = sorted(set(ball32) - set(ball10))\n",
    "cGV_edges[42] = auxGV_edges\n",
    "cGE_edges[42] = auxGE_edges\n",
    "\n",
    "# Case #43\n",
    "# buffer width\n",
    "# used for 8-vertices at sigma^3=level-1 (indices: 389)\n",
    "auxGV_edges = sorted(set(reg_edges2_ids))\n",
    "# sorted(set(reg_edges2_ids)-(set(reg_edges0_ids) | set(mem_edges0_ids)))\n",
    "auxGE_edges = sorted(set(ball48) - set(ball20))\n",
    "cGV_edges[43] = auxGV_edges\n",
    "cGE_edges[43] = auxGE_edges\n",
    "\n",
    "# Case #44\n",
    "auxGV_edges = sorted(set(ball5))\n",
    "auxGE_edges = sorted(set(ball32) - set(ball8))\n",
    "cGV_edges[44] = auxGV_edges\n",
    "cGE_edges[44] = auxGE_edges\n",
    "\n",
    "# Case #45\n",
    "auxGV_edges = sorted(set(ball8))\n",
    "auxGE_edges = sorted(set(ball48) - set(ball16))\n",
    "cGV_edges[45] = auxGV_edges\n",
    "cGE_edges[45] = auxGE_edges\n",
    "\n",
    "# Case #46\n",
    "# used for 3-vertices at sigma^1 (doesn't correspond to any level) (indices: 393)\n",
    "auxGV_edges, auxGE_edges = construct_VE_edgelists(\n",
    "    G, EV_params['V_index'], L_B=2, ll=2, cap=16)\n",
    "auxGV_edges = list(set(auxGV_edges) - set([807, 877, 879, 46284, 46289, 793]))\n",
    "cGV_edges[46] = auxGV_edges\n",
    "cGE_edges[46] = auxGE_edges\n",
    "\n",
    "\n",
    "# Case #47\n",
    "# use for 8-vertices at sigma^4=level-2 (index:389)\n",
    "auxGV_edges = sorted(set(reg_edges3_ids))\n",
    "# sorted(set(reg_edges2_ids)-(set(reg_edges0_ids) | set(mem_edges0_ids)))\n",
    "auxGE_edges = sorted(set(ball72) - set(ball48))\n",
    "cGV_edges[47] = auxGV_edges\n",
    "cGE_edges[47] = auxGE_edges\n",
    "\n",
    "# Case #48\n",
    "# use for 8-vertices at sigma^4=level-2 (index:389)\n",
    "auxGV_edges = sorted(set(ball16))\n",
    "# sorted(set(reg_edges2_ids)-(set(reg_edges0_ids) | set(mem_edges0_ids)))\n",
    "auxGE_edges = sorted(set(ball48) - set(ball24))\n",
    "cGV_edges[48] = auxGV_edges\n",
    "cGE_edges[48] = auxGE_edges\n",
    "\n",
    "\n",
    "\n",
    "# Case #49\n",
    "# use for 8-vertices at sigma^2=level-0 (index:389) (perfect tile)\n",
    "auxGV_edges = sorted(set(reg_edges1_ids))\n",
    "auxGV_edges = list(set(auxGV_edges) -\n",
    "                   set([13980, 13982,\n",
    "                        26928, 26930,\n",
    "                        39876, 39878,\n",
    "                        7506, 7508,\n",
    "                        868, 870,\n",
    "                        20454, 20456,\n",
    "                        876, 878,\n",
    "                        33402, 33404]) -\n",
    "                   set([13979, 26927, 39875, 7505, 867, 20453, 875, 33401]))\n",
    "_, auxGE_edges = construct_VE_edgelists(\n",
    "    G, EV_params['V_index'], L_B=3, ll=4, cap=24)\n",
    "cGV_edges[49] = auxGV_edges\n",
    "cGE_edges[49] = auxGE_edges\n",
    "\n",
    "\n",
    "\n",
    "# Case #50\n",
    "# use for 3-vertices at sigma^2=level-0 (index:404, 399, ...) (perfect tile)\n",
    "vertex_type = '3fold'\n",
    "sigma_scale = 2\n",
    "factor = polygons.silver_ratio ** (sigma_scale-1)\n",
    "#angle = np.arccos(\n",
    "#    np.dot(nodepos[EV_params['V_index']], factor*nodepos[polygons.super_vertices[vertex_type][1][0]]) /\n",
    "#    (np.linalg.norm(nodepos[EV_params['V_index']])*np.linalg.norm(factor*nodepos[polygons.super_vertices[vertex_type][1][0]])))\n",
    "angle = rel_angle(nodepos[EV_params['V_index']],\n",
    "                  factor, vertex_type=vertex_type)\n",
    "\n",
    "auxGV_edges = polygons.rotate_and_scale_Vgraph(\n",
    "    angle, sigma_scale, vertex_type)[0]\n",
    "# TODO: can try increasing the buffer size here\n",
    "auxGE_edges = construct_VE_edgelists(G, V_index, L_B=4, ll=4, cap=20)[1]\n",
    "cGV_edges[50] = auxGV_edges\n",
    "cGE_edges[50] = auxGE_edges\n",
    "\"\"\"\n",
    "\n",
    "\n",
    "\n",
    "# Case 51\n",
    "# Use for 8-vertices at sigma^4=level-2 (index:389) (perfect tile)\n",
    "vertex_type = '8fold'\n",
    "sigma_scale = 4\n",
    "factor = polygons.silver_ratio ** (sigma_scale-1)\n",
    "\n",
    "auxGV_edges = polygons.scale_Vgraph(sigma_scale, vertex_type)[0]\n",
    "# TODO: determine the proper buffer size here\n",
    "#auxGE_edges = construct_VE_edgelists(G, V_index, L_B=8, ll=16, cap=48)[1]\n",
    "#auxGE_edges = sorted(set(ball72) - set(ball54))\n",
    "auxGE_edges = sorted(set(ball64) - set(ball40))\n",
    "\n",
    "cGV_edges[51] = auxGV_edges\n",
    "cGE_edges[51] = auxGE_edges\n",
    "\n",
    "\n",
    "\"\"\"\n",
    "# Case 52\n",
    "# Use for 3-vertices at sigma^4=level-2 (index:196, 274, ...) (perfect tile)\n",
    "vertex_type = '3fold'\n",
    "sigma_scale = 4\n",
    "factor = polygons.silver_ratio ** (sigma_scale-1)\n",
    "angle = rel_angle(nodepos[EV_params['V_index']],\n",
    "                  factor, vertex_type=vertex_type)\n",
    "\n",
    "auxGV_edges = polygons.rotate_and_scale_Vgraph(\n",
    "    angle, sigma_scale, vertex_type)[0]\n",
    "# TODO: determine the proper buffer size here\n",
    "#auxGE_edges = construct_VE_edgelists(G, V_index, L_B=8, ll=16, cap=48)[1]\n",
    "auxGE_edges = sorted(set(ball64) - set(ball40))\n",
    "cGV_edges[52] = auxGV_edges\n",
    "cGE_edges[52] = auxGE_edges\n",
    "\n",
    "\n",
    "\n",
    "\n",
    "# Case 53\n",
    "# Use for 8-vertices at sigma^3=level-1 (index:389) (perfect tile)\n",
    "vertex_type = '8fold'\n",
    "sigma_scale = 3\n",
    "factor = polygons.silver_ratio ** (sigma_scale-1)\n",
    "\n",
    "auxGV_edges = polygons.scale_Vgraph(sigma_scale, vertex_type)[0]\n",
    "auxGE_edges = sorted(set(ball48) - set(ball24))\n",
    "cGV_edges[53] = auxGV_edges\n",
    "cGE_edges[53] = auxGE_edges\n",
    "\n",
    "\n",
    "\n",
    "# Case 54\n",
    "# Use for 3-vertices at sigma^4=level-2 (index:196, 274, ...) (perfect tile)\n",
    "vertex_type = '3fold'\n",
    "sigma_scale = 3\n",
    "factor = polygons.silver_ratio ** (sigma_scale-1)\n",
    "angle = rel_angle(nodepos[EV_params['V_index']],\n",
    "                  factor, vertex_type=vertex_type)\n",
    "\n",
    "auxGV_edges = polygons.rotate_and_scale_Vgraph(\n",
    "    angle, sigma_scale, vertex_type)[0]\n",
    "# TODO: determine the proper buffer size here\n",
    "#auxGE_edges = construct_VE_edgelists(G, V_index, L_B=8, ll=16, cap=48)[1]\n",
    "auxGE_edges = sorted(set(ball48) - set(ball20))\n",
    "cGV_edges[54] = auxGV_edges\n",
    "cGE_edges[54] = auxGE_edges\n",
    "\"\"\"\n"
   ]
  },
  {
   "cell_type": "code",
   "execution_count": 670,
   "metadata": {
    "collapsed": false,
    "pycharm": {
     "name": "#%%\n"
    }
   },
   "outputs": [
    {
     "data": {
      "text/plain": [
       "[51]"
      ]
     },
     "execution_count": 670,
     "metadata": {},
     "output_type": "execute_result"
    }
   ],
   "source": [
    "# Double check which cases you selected:\n",
    "list(cGV_edges.keys())"
   ]
  },
  {
   "cell_type": "code",
   "execution_count": 671,
   "metadata": {
    "collapsed": false,
    "pycharm": {
     "name": "#%%\n"
    }
   },
   "outputs": [],
   "source": [
    "#####################################################\n",
    "############ Generate E,V datasets ##################\n",
    "#####################################################\n",
    "\n",
    "EV_dir = sample_data_dir = os.path.join(os.pardir, 'data', 'EandV')\n"
   ]
  },
  {
   "cell_type": "code",
   "execution_count": 672,
   "metadata": {
    "collapsed": false,
    "pycharm": {
     "name": "#%%\n"
    }
   },
   "outputs": [
    {
     "name": "stdout",
     "output_type": "stream",
     "text": [
      "Preparing the RSMI dataset...\n",
      "RSMI dataset prepared.\n",
      "137.33  MB\n"
     ]
    }
   ],
   "source": [
    "############ Generate E,V datasets ***FOR A SINGLE CASE/custom definition of E,V*** \n",
    "\n",
    "Vs, Es = generator.rsmi_data_graph(GV_edges,GE_edges)\n",
    "\n",
    "print(round((sys.getsizeof(np.array(Es)) + sys.getsizeof(np.array(Vs)))/ 1024 / 1024, 2), \" MB\")\n",
    "\n",
    "\n",
    "\n",
    "np.save(os.path.join(EV_dir, r\"Es_%i_vi%i_e%ib%ill%i\" % (EV_params['sample_no'],EV_params['V_index'],EV_params['env_size'],EV_params['buffer_size'],EV_params['block_size'])),Es)\n",
    "np.save(os.path.join(EV_dir, r\"Vs_%i_vi%i_e%ib%ill%i\" % (EV_params['sample_no'], EV_params['V_index'], EV_params['env_size'], EV_params['buffer_size'], EV_params['block_size'])), Vs)\n",
    "\n",
    "np.save(os.path.join(EV_dir, r\"Es_%i_vi%i_c%i\" % (EV_params['sample_no'], EV_params['V_index'], case_no)), Es)\n",
    "np.save(os.path.join(EV_dir, r\"Vs_%i_vi%i_c%i\" % (EV_params['sample_no'], EV_params['V_index'], case_no)), Vs)\n",
    "\n"
   ]
  },
  {
   "cell_type": "code",
   "execution_count": 673,
   "metadata": {
    "collapsed": false,
    "pycharm": {
     "name": "#%%\n"
    }
   },
   "outputs": [
    {
     "name": "stdout",
     "output_type": "stream",
     "text": [
      "Preparing the RSMI dataset...\n",
      "RSMI dataset prepared.\n",
      "Case_no:  51 , Size:  2760.32  MB\n"
     ]
    }
   ],
   "source": [
    "############ Generate E,V datasets ***FOR MULTIPLE CASES*** \n",
    "\n",
    "case_list = list(cGV_edges.keys())\n",
    "for case_no in case_list:\n",
    "    auxVs, auxEs = generator.rsmi_data_graph(cGV_edges[case_no],cGE_edges[case_no])\n",
    "    print(\"Case_no: \",case_no,\", Size: \",round((sys.getsizeof(np.array(auxEs)) + sys.getsizeof(np.array(auxVs)))/ 1024 / 1024, 2), \" MB\")\n",
    "    np.save(os.path.join(EV_dir, r\"Es_%i_vi%i_c%i\" % (EV_params['sample_no'],EV_params['V_index'],case_no)), auxEs)\n",
    "    np.save(os.path.join(EV_dir, r\"Vs_%i_vi%i_c%i\" % (EV_params['sample_no'],EV_params['V_index'],case_no)), auxVs)"
   ]
  },
  {
   "cell_type": "code",
   "execution_count": null,
   "metadata": {},
   "outputs": [],
   "source": []
  },
  {
   "cell_type": "code",
   "execution_count": null,
   "metadata": {},
   "outputs": [],
   "source": []
  },
  {
   "cell_type": "code",
   "execution_count": null,
   "metadata": {},
   "outputs": [],
   "source": []
  },
  {
   "cell_type": "code",
   "execution_count": null,
   "metadata": {},
   "outputs": [],
   "source": []
  }
 ],
 "metadata": {
  "kernelspec": {
   "display_name": "Python 3.10.6 ('base')",
   "language": "python",
   "name": "python3"
  },
  "language_info": {
   "codemirror_mode": {
    "name": "ipython",
    "version": 3
   },
   "file_extension": ".py",
   "mimetype": "text/x-python",
   "name": "python",
   "nbconvert_exporter": "python",
   "pygments_lexer": "ipython3",
   "version": "3.10.6"
  },
  "vscode": {
   "interpreter": {
    "hash": "fff7285a7b9674a821da44b8413beb73bd11a21fb8e7ea8626d281a41e1eb1b4"
   }
  }
 },
 "nbformat": 4,
 "nbformat_minor": 4
}
